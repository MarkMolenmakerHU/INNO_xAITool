{
 "cells": [
  {
   "cell_type": "code",
   "execution_count": 1,
   "metadata": {},
   "outputs": [],
   "source": [
    "from AI_Models.Models.svm_ai_model import SvmAiModel\n",
    "from XAI_Models.Models.lime import LimeXaiModel\n",
    "from Helpers import train_ai_model, train_xai_model\n",
    "from sklearn.datasets import load_iris"
   ]
  },
  {
   "cell_type": "code",
   "execution_count": 2,
   "metadata": {},
   "outputs": [
    {
     "name": "stdout",
     "output_type": "stream",
     "text": [
      "\n",
      "Training AI-Model...\n",
      "Done training AI-Model!\n",
      "\n",
      "Training  XAI-Model...\n",
      "True value: 0\n",
      "Done training XAI-Model!\n"
     ]
    }
   ],
   "source": [
    "dataset = load_iris()\n",
    "ai_class = SvmAiModel()\n",
    "xai_class = LimeXaiModel()\n",
    "\n",
    "model, data, names, scores = train_ai_model(ai_class, dataset)\n",
    "results = train_xai_model(xai_class, model, data, names)"
   ]
  },
  {
   "cell_type": "code",
   "execution_count": 3,
   "metadata": {},
   "outputs": [
    {
     "data": {
      "text/plain": [
       "{0: [(2, 0.645011783342893), (3, 0.11047405873007858)]}"
      ]
     },
     "execution_count": 3,
     "metadata": {},
     "output_type": "execute_result"
    }
   ],
   "source": [
    "results"
   ]
  }
 ],
 "metadata": {
  "interpreter": {
   "hash": "0b4e4b9d5be946191f4dc9c78bb2e8a5f999c668cc2b83523c1a62f9f080553f"
  },
  "kernelspec": {
   "display_name": "Python 3.7.3 32-bit",
   "language": "python",
   "name": "python3"
  },
  "language_info": {
   "codemirror_mode": {
    "name": "ipython",
    "version": 3
   },
   "file_extension": ".py",
   "mimetype": "text/x-python",
   "name": "python",
   "nbconvert_exporter": "python",
   "pygments_lexer": "ipython3",
   "version": "3.8.3"
  },
  "orig_nbformat": 4
 },
 "nbformat": 4,
 "nbformat_minor": 2
}
