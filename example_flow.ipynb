{
 "cells": [
  {
   "cell_type": "code",
   "execution_count": 5,
   "metadata": {},
   "outputs": [],
   "source": [
    "from Helpers import train_ai_model, train_xai_model, get_file_name\n",
    "from Datasets.Code import load_iris, load_breast_cancer, load_titanic, load_stock\n",
    "from AI_Models.Models import DtAiModel, LrAiModel, SvmAiModel, XgbAiModel\n",
    "from XAI_Models.Models import LimeXaiModel, ShapXaiModel"
   ]
  },
  {
   "cell_type": "code",
   "execution_count": 6,
   "metadata": {},
   "outputs": [
    {
     "name": "stdout",
     "output_type": "stream",
     "text": [
      "Training AI-Model...\n"
     ]
    },
    {
     "name": "stderr",
     "output_type": "stream",
     "text": [
      "The use of label encoder in XGBClassifier is deprecated and will be removed in a future release. To remove this warning, do the following: 1) Pass option use_label_encoder=False when constructing XGBClassifier object; and 2) Encode your labels (y) as integers starting with 0, i.e. 0, 1, 2, ..., [num_class - 1].\n"
     ]
    },
    {
     "name": "stdout",
     "output_type": "stream",
     "text": [
      "[00:21:28] WARNING: C:/Users/Administrator/workspace/xgboost-win64_release_1.5.1/src/learner.cc:1115: Starting in XGBoost 1.3.0, the default evaluation metric used with the objective 'multi:softprob' was changed from 'merror' to 'mlogloss'. Explicitly set eval_metric if you'd like to restore the old behavior.\n",
      "Done training AI-Model!\n",
      "Training  XAI-Model...\n",
      "True value: 0\n",
      "Done training XAI-Model!\n"
     ]
    }
   ],
   "source": [
    "dataset = load_iris()\n",
    "ai_class = DtAiModel()\n",
    "xai_class = LimeXaiModel()\n",
    "\n",
    "file_name = get_file_name(dataset, ai_class, xai_class)\n",
    "model, data, names, scores = train_ai_model(ai_class, dataset)\n",
    "result = train_xai_model(xai_class, model, data, names, file_name)"
   ]
  },
  {
   "cell_type": "code",
   "execution_count": 7,
   "metadata": {},
   "outputs": [
    {
     "data": {
      "text/plain": [
       "{1: [(2, 0.41682017620229317), (3, 0.01816409895096206)]}"
      ]
     },
     "execution_count": 7,
     "metadata": {},
     "output_type": "execute_result"
    }
   ],
   "source": [
    "print(scores)\n",
    "print(result)"
   ]
  }
 ],
 "metadata": {
  "interpreter": {
   "hash": "0b4e4b9d5be946191f4dc9c78bb2e8a5f999c668cc2b83523c1a62f9f080553f"
  },
  "kernelspec": {
   "display_name": "Python 3.7.3 32-bit",
   "language": "python",
   "name": "python3"
  },
  "language_info": {
   "codemirror_mode": {
    "name": "ipython",
    "version": 3
   },
   "file_extension": ".py",
   "mimetype": "text/x-python",
   "name": "python",
   "nbconvert_exporter": "python",
   "pygments_lexer": "ipython3",
   "version": "3.8.3"
  },
  "orig_nbformat": 4
 },
 "nbformat": 4,
 "nbformat_minor": 2
}
